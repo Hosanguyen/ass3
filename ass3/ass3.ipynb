{
 "cells": [
  {
   "cell_type": "code",
   "execution_count": 1,
   "metadata": {},
   "outputs": [],
   "source": [
    "import pandas as pd\n",
    "import numpy as np\n",
    "from sklearn.model_selection import train_test_split\n",
    "from sklearn.preprocessing import StandardScaler\n",
    "from sklearn.datasets import load_diabetes\n",
    "\n",
    "# Tải dữ liệu\n",
    "data = load_diabetes(as_frame=True)\n",
    "df = data.frame\n",
    "\n",
    "# Chuyển đổi target thành nhị phân (nếu target > 140, coi là \"có nguy cơ tiểu đường\")\n",
    "df['target'] = (df['target'] > 140).astype(int)\n",
    "\n",
    "# Tách đặc trưng (X) và nhãn (y)\n",
    "X = df.drop(columns=['target'])\n",
    "y = df['target']\n",
    "\n",
    "# Chia tập train/test\n",
    "X_train, X_test, y_train, y_test = train_test_split(X, y, test_size=0.2, random_state=42)\n",
    "\n",
    "# Chuẩn hóa dữ liệu (MinMaxScaler để giữ thông tin)\n",
    "from sklearn.preprocessing import MinMaxScaler\n",
    "scaler = MinMaxScaler()\n",
    "X_train = scaler.fit_transform(X_train)\n",
    "X_test = scaler.transform(X_test)\n"
   ]
  },
  {
   "cell_type": "code",
   "execution_count": 2,
   "metadata": {},
   "outputs": [
    {
     "name": "stdout",
     "output_type": "stream",
     "text": [
      "Best kNN Accuracy: 0.6854\n"
     ]
    }
   ],
   "source": [
    "from sklearn.neighbors import KNeighborsClassifier\n",
    "from sklearn.model_selection import GridSearchCV\n",
    "\n",
    "param_grid = {'n_neighbors': [3, 5, 7, 9, 11]}\n",
    "grid_knn = GridSearchCV(KNeighborsClassifier(), param_grid, cv=5)\n",
    "grid_knn.fit(X_train, y_train)\n",
    "\n",
    "best_knn = grid_knn.best_estimator_\n",
    "acc_knn = best_knn.score(X_test, y_test)\n",
    "print(f'Best kNN Accuracy: {acc_knn:.4f}')\n"
   ]
  },
  {
   "cell_type": "code",
   "execution_count": 3,
   "metadata": {},
   "outputs": [
    {
     "name": "stdout",
     "output_type": "stream",
     "text": [
      "SVM Linear Accuracy: 0.7079\n"
     ]
    }
   ],
   "source": [
    "from sklearn.svm import SVC\n",
    "\n",
    "svm_linear = SVC(kernel='linear', C=1)\n",
    "svm_linear.fit(X_train, y_train)\n",
    "acc_svm_linear = svm_linear.score(X_test, y_test)\n",
    "print(f'SVM Linear Accuracy: {acc_svm_linear:.4f}')\n"
   ]
  },
  {
   "cell_type": "code",
   "execution_count": 4,
   "metadata": {},
   "outputs": [
    {
     "name": "stdout",
     "output_type": "stream",
     "text": [
      "SVM RBF Accuracy: 0.7753\n"
     ]
    }
   ],
   "source": [
    "svm_rbf = SVC(kernel='rbf', C=1, gamma=0.1)\n",
    "svm_rbf.fit(X_train, y_train)\n",
    "acc_svm_rbf = svm_rbf.score(X_test, y_test)\n",
    "print(f'SVM RBF Accuracy: {acc_svm_rbf:.4f}')\n"
   ]
  },
  {
   "cell_type": "code",
   "execution_count": 5,
   "metadata": {},
   "outputs": [
    {
     "name": "stdout",
     "output_type": "stream",
     "text": [
      "Logistic Regression Accuracy: 0.7303\n"
     ]
    }
   ],
   "source": [
    "from sklearn.linear_model import LogisticRegression\n",
    "\n",
    "log_reg = LogisticRegression(C=1, solver='liblinear')\n",
    "log_reg.fit(X_train, y_train)\n",
    "acc_log_reg = log_reg.score(X_test, y_test)\n",
    "print(f'Logistic Regression Accuracy: {acc_log_reg:.4f}')\n"
   ]
  },
  {
   "cell_type": "code",
   "execution_count": 6,
   "metadata": {},
   "outputs": [
    {
     "name": "stdout",
     "output_type": "stream",
     "text": [
      "Epoch 1/50\n",
      "23/23 [==============================] - 1s 10ms/step - loss: 0.6605 - accuracy: 0.6119 - val_loss: 0.6851 - val_accuracy: 0.4607\n",
      "Epoch 2/50\n",
      "23/23 [==============================] - 0s 2ms/step - loss: 0.5504 - accuracy: 0.7110 - val_loss: 0.6741 - val_accuracy: 0.4494\n",
      "Epoch 3/50\n",
      "23/23 [==============================] - 0s 2ms/step - loss: 0.5084 - accuracy: 0.7564 - val_loss: 0.6643 - val_accuracy: 0.5506\n",
      "Epoch 4/50\n",
      "23/23 [==============================] - 0s 2ms/step - loss: 0.4989 - accuracy: 0.7535 - val_loss: 0.6549 - val_accuracy: 0.5730\n",
      "Epoch 5/50\n",
      "23/23 [==============================] - 0s 3ms/step - loss: 0.5053 - accuracy: 0.7620 - val_loss: 0.6515 - val_accuracy: 0.5730\n",
      "Epoch 6/50\n",
      "23/23 [==============================] - 0s 2ms/step - loss: 0.4727 - accuracy: 0.7649 - val_loss: 0.6338 - val_accuracy: 0.6854\n",
      "Epoch 7/50\n",
      "23/23 [==============================] - 0s 2ms/step - loss: 0.4821 - accuracy: 0.7479 - val_loss: 0.6280 - val_accuracy: 0.6854\n",
      "Epoch 8/50\n",
      "23/23 [==============================] - 0s 2ms/step - loss: 0.4892 - accuracy: 0.7734 - val_loss: 0.6207 - val_accuracy: 0.6854\n",
      "Epoch 9/50\n",
      "23/23 [==============================] - 0s 2ms/step - loss: 0.4697 - accuracy: 0.7649 - val_loss: 0.6037 - val_accuracy: 0.7640\n",
      "Epoch 10/50\n",
      "23/23 [==============================] - 0s 2ms/step - loss: 0.4370 - accuracy: 0.7734 - val_loss: 0.5906 - val_accuracy: 0.6966\n",
      "Epoch 11/50\n",
      "23/23 [==============================] - 0s 2ms/step - loss: 0.4762 - accuracy: 0.7762 - val_loss: 0.5831 - val_accuracy: 0.7303\n",
      "Epoch 12/50\n",
      "23/23 [==============================] - 0s 2ms/step - loss: 0.4869 - accuracy: 0.7847 - val_loss: 0.5769 - val_accuracy: 0.7528\n",
      "Epoch 13/50\n",
      "23/23 [==============================] - 0s 2ms/step - loss: 0.4699 - accuracy: 0.7592 - val_loss: 0.5695 - val_accuracy: 0.7640\n",
      "Epoch 14/50\n",
      "23/23 [==============================] - 0s 2ms/step - loss: 0.4695 - accuracy: 0.7649 - val_loss: 0.5505 - val_accuracy: 0.7528\n",
      "Epoch 15/50\n",
      "23/23 [==============================] - 0s 2ms/step - loss: 0.4593 - accuracy: 0.7535 - val_loss: 0.5385 - val_accuracy: 0.7303\n",
      "Epoch 16/50\n",
      "23/23 [==============================] - 0s 2ms/step - loss: 0.4274 - accuracy: 0.7989 - val_loss: 0.5117 - val_accuracy: 0.7865\n",
      "Epoch 17/50\n",
      "23/23 [==============================] - 0s 2ms/step - loss: 0.4501 - accuracy: 0.7649 - val_loss: 0.5162 - val_accuracy: 0.7753\n",
      "Epoch 18/50\n",
      "23/23 [==============================] - 0s 2ms/step - loss: 0.4641 - accuracy: 0.7620 - val_loss: 0.5079 - val_accuracy: 0.7865\n",
      "Epoch 19/50\n",
      "23/23 [==============================] - 0s 2ms/step - loss: 0.4220 - accuracy: 0.8045 - val_loss: 0.5064 - val_accuracy: 0.7865\n",
      "Epoch 20/50\n",
      "23/23 [==============================] - 0s 2ms/step - loss: 0.4415 - accuracy: 0.7790 - val_loss: 0.4857 - val_accuracy: 0.7640\n",
      "Epoch 21/50\n",
      "23/23 [==============================] - 0s 2ms/step - loss: 0.4390 - accuracy: 0.7705 - val_loss: 0.4890 - val_accuracy: 0.7753\n",
      "Epoch 22/50\n",
      "23/23 [==============================] - 0s 2ms/step - loss: 0.4147 - accuracy: 0.7904 - val_loss: 0.4921 - val_accuracy: 0.7753\n",
      "Epoch 23/50\n",
      "23/23 [==============================] - 0s 2ms/step - loss: 0.4056 - accuracy: 0.7989 - val_loss: 0.4801 - val_accuracy: 0.7865\n",
      "Epoch 24/50\n",
      "23/23 [==============================] - 0s 2ms/step - loss: 0.4064 - accuracy: 0.7932 - val_loss: 0.4812 - val_accuracy: 0.7865\n",
      "Epoch 25/50\n",
      "23/23 [==============================] - 0s 2ms/step - loss: 0.4221 - accuracy: 0.8017 - val_loss: 0.4938 - val_accuracy: 0.7640\n",
      "Epoch 26/50\n",
      "23/23 [==============================] - 0s 2ms/step - loss: 0.4360 - accuracy: 0.7790 - val_loss: 0.5013 - val_accuracy: 0.7416\n",
      "Epoch 27/50\n",
      "23/23 [==============================] - 0s 3ms/step - loss: 0.4295 - accuracy: 0.7904 - val_loss: 0.4965 - val_accuracy: 0.7753\n",
      "Epoch 28/50\n",
      "23/23 [==============================] - 0s 2ms/step - loss: 0.4639 - accuracy: 0.7734 - val_loss: 0.4994 - val_accuracy: 0.7416\n",
      "Epoch 29/50\n",
      "23/23 [==============================] - 0s 2ms/step - loss: 0.4001 - accuracy: 0.8074 - val_loss: 0.4967 - val_accuracy: 0.7416\n",
      "Epoch 30/50\n",
      "23/23 [==============================] - 0s 2ms/step - loss: 0.4111 - accuracy: 0.7960 - val_loss: 0.4958 - val_accuracy: 0.7416\n",
      "Epoch 31/50\n",
      "23/23 [==============================] - 0s 2ms/step - loss: 0.4077 - accuracy: 0.8045 - val_loss: 0.4954 - val_accuracy: 0.7753\n",
      "Epoch 32/50\n",
      "23/23 [==============================] - 0s 2ms/step - loss: 0.4099 - accuracy: 0.8159 - val_loss: 0.5013 - val_accuracy: 0.7640\n",
      "Epoch 33/50\n",
      "23/23 [==============================] - 0s 2ms/step - loss: 0.4059 - accuracy: 0.8130 - val_loss: 0.5070 - val_accuracy: 0.7640\n",
      "Epoch 34/50\n",
      "23/23 [==============================] - 0s 2ms/step - loss: 0.3793 - accuracy: 0.8215 - val_loss: 0.5334 - val_accuracy: 0.7416\n",
      "Epoch 35/50\n",
      "23/23 [==============================] - 0s 2ms/step - loss: 0.3862 - accuracy: 0.8074 - val_loss: 0.5119 - val_accuracy: 0.7528\n",
      "Epoch 36/50\n",
      "23/23 [==============================] - 0s 2ms/step - loss: 0.3973 - accuracy: 0.8017 - val_loss: 0.5318 - val_accuracy: 0.7416\n",
      "Epoch 37/50\n",
      "23/23 [==============================] - 0s 2ms/step - loss: 0.3845 - accuracy: 0.8244 - val_loss: 0.5042 - val_accuracy: 0.7303\n",
      "Epoch 38/50\n",
      "23/23 [==============================] - 0s 2ms/step - loss: 0.3850 - accuracy: 0.8102 - val_loss: 0.5201 - val_accuracy: 0.7528\n",
      "Epoch 39/50\n",
      "23/23 [==============================] - 0s 2ms/step - loss: 0.3995 - accuracy: 0.7989 - val_loss: 0.5468 - val_accuracy: 0.7191\n",
      "Epoch 40/50\n",
      "23/23 [==============================] - 0s 2ms/step - loss: 0.3771 - accuracy: 0.8159 - val_loss: 0.5281 - val_accuracy: 0.7416\n",
      "Epoch 41/50\n",
      "23/23 [==============================] - 0s 2ms/step - loss: 0.3668 - accuracy: 0.8329 - val_loss: 0.5550 - val_accuracy: 0.7191\n",
      "Epoch 42/50\n",
      "23/23 [==============================] - 0s 2ms/step - loss: 0.3867 - accuracy: 0.8357 - val_loss: 0.5174 - val_accuracy: 0.7865\n",
      "Epoch 43/50\n",
      "23/23 [==============================] - 0s 3ms/step - loss: 0.3746 - accuracy: 0.8187 - val_loss: 0.5391 - val_accuracy: 0.7640\n",
      "Epoch 44/50\n",
      "23/23 [==============================] - 0s 2ms/step - loss: 0.3772 - accuracy: 0.8130 - val_loss: 0.5275 - val_accuracy: 0.7865\n",
      "Epoch 45/50\n",
      "23/23 [==============================] - 0s 2ms/step - loss: 0.3535 - accuracy: 0.8385 - val_loss: 0.5385 - val_accuracy: 0.7416\n",
      "Epoch 46/50\n",
      "23/23 [==============================] - 0s 2ms/step - loss: 0.3572 - accuracy: 0.8244 - val_loss: 0.5752 - val_accuracy: 0.7528\n",
      "Epoch 47/50\n",
      "23/23 [==============================] - 0s 2ms/step - loss: 0.3608 - accuracy: 0.8357 - val_loss: 0.5759 - val_accuracy: 0.7416\n",
      "Epoch 48/50\n",
      "23/23 [==============================] - 0s 2ms/step - loss: 0.3724 - accuracy: 0.8272 - val_loss: 0.5628 - val_accuracy: 0.7528\n",
      "Epoch 49/50\n",
      "23/23 [==============================] - 0s 3ms/step - loss: 0.3519 - accuracy: 0.8215 - val_loss: 0.5823 - val_accuracy: 0.7528\n",
      "Epoch 50/50\n",
      "23/23 [==============================] - 0s 2ms/step - loss: 0.3681 - accuracy: 0.8215 - val_loss: 0.5614 - val_accuracy: 0.7303\n",
      "3/3 [==============================] - 0s 3ms/step - loss: 0.5614 - accuracy: 0.7303\n",
      "Deep Learning Accuracy: 0.7303\n"
     ]
    }
   ],
   "source": [
    "import tensorflow as tf\n",
    "from tensorflow.keras.models import Sequential\n",
    "from tensorflow.keras.layers import Dense, Dropout, BatchNormalization\n",
    "\n",
    "# Xây dựng mô hình MLP cải tiến\n",
    "model = Sequential([\n",
    "    Dense(128, activation='relu', input_shape=(X_train.shape[1],)),\n",
    "    BatchNormalization(),\n",
    "    Dropout(0.2),\n",
    "\n",
    "    Dense(64, activation='relu'),\n",
    "    Dropout(0.2),\n",
    "\n",
    "    Dense(32, activation='relu'),\n",
    "    \n",
    "    Dense(1, activation='sigmoid')\n",
    "])\n",
    "\n",
    "model.compile(optimizer=tf.keras.optimizers.Adam(learning_rate=0.001), \n",
    "              loss='binary_crossentropy', \n",
    "              metrics=['accuracy'])\n",
    "\n",
    "# Huấn luyện mô hình\n",
    "history = model.fit(X_train, y_train, epochs=50, batch_size=16, validation_data=(X_test, y_test))\n",
    "\n",
    "# Đánh giá mô hình\n",
    "loss, acc_dl = model.evaluate(X_test, y_test)\n",
    "print(f'Deep Learning Accuracy: {acc_dl:.4f}')\n"
   ]
  },
  {
   "cell_type": "code",
   "execution_count": 7,
   "metadata": {},
   "outputs": [
    {
     "data": {
      "image/png": "[encoded data removed]",
      "text/plain": [
       "<Figure size 1000x500 with 1 Axes>"
      ]
     },
     "metadata": {},
     "output_type": "display_data"
    }
   ],
   "source": [
    "import matplotlib.pyplot as plt\n",
    "\n",
    "accuracy_scores = [acc_knn, acc_svm_linear, acc_svm_rbf, acc_log_reg, acc_dl]\n",
    "model_names = ['kNN', 'SVM Linear', 'SVM RBF', 'Logistic Regression', 'Deep Learning']\n",
    "\n",
    "plt.figure(figsize=(10, 5))\n",
    "plt.plot(model_names, accuracy_scores, marker='o', linestyle='-', color='b', label=\"Accuracy\")\n",
    "plt.xlabel('Model')\n",
    "plt.ylabel('Accuracy')\n",
    "plt.title('Comparison of Model Accuracies')\n",
    "plt.legend()\n",
    "plt.grid()\n",
    "plt.show()\n"
   ]
  }
 ],
 "metadata": {
  "kernelspec": {
   "display_name": "Python 3 (ipykernel)",
   "language": "python",
   "name": "python3"
  },
  "language_info": {
   "codemirror_mode": {
    "name": "ipython",
    "version": 3
   },
   "file_extension": ".py",
   "mimetype": "text/x-python",
   "name": "python",
   "nbconvert_exporter": "python",
   "pygments_lexer": "ipython3",
   "version": "3.11.4"
  }
 },
 "nbformat": 4,
 "nbformat_minor": 4
}
